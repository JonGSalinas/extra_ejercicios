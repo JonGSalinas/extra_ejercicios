{
 "cells": [
  {
   "cell_type": "markdown",
   "metadata": {},
   "source": [
    "# Listado de ejercicios para practicar sintaxis, reforzar conceptos y fijar ideas\n",
    "### Requieren entre 1 y 3 líneas de código por ejercicio y siemrpe serán similares a alguno que hicimos antes en clase\n",
    "### Si te atacas no vayas directamente a las soluciones: \n",
    "##### Repasa, descansa, prueba con otros ejecercicios, escribe en un papel o comentario de python que quieres hacer y vuelve al ejercicio \n",
    "##### Cuidado con los errores de sintaxis: comprueba que los paréntesis están bien puesto, las comillas cerradas, el tipo de datos es correcto... \n",
    "##### Si un ejercicio que el miercoles te hubiera parecido complicado, ahora te parece aburrido significa que ambos estamos cumpliendo bien nuestro papel\n",
    "##### Si a algún ejercicio quieres darle una vuelta con conceptos más avanzados (if, for, while...) también es bienvenido y saludable\n"
   ]
  },
  {
   "cell_type": "markdown",
   "metadata": {},
   "source": [
    "##### Estoy overtime y odio hacer horas extra. Espero que si me pides ayuda me muestres tu trabajo: un intento de código (aunque no funcione), una frase en español o inglés indicando que es lo que quieres hacer, una duda concreta... pero no la celda vacía\n",
    "\n",
    "![imagen](img/overtime.gif)\n"
   ]
  },
  {
   "cell_type": "code",
   "execution_count": null,
   "metadata": {},
   "outputs": [],
   "source": [
    "# Declarar variables hasta llegar al Nirvana:\n",
    "# Declara var1 y asignale un string o cadena \n",
    "# Declara var2 y asignale un int o entero\n",
    "# Declara var3 y asignale un float o número con decimales\n",
    "# Declara var4 y asignale un booleano\n",
    "# Declara var5 y asignale una lista\n"
   ]
  },
  {
   "cell_type": "code",
   "execution_count": null,
   "metadata": {},
   "outputs": [],
   "source": [
    "# Conversión de tipos o casting:\n",
    "# Intenta convertir todos y cada una de las variables del ejercicio anterior en:\n",
    "# string\n",
    "# int\n",
    "# float\n",
    "# booleano\n",
    "# lista (¿SE PUEDE HACER ESTO?: tan sencillo como list(varX) sea varX el nombre de tu variable: var1, var2, var3...) \n",
    "# A veces funciona, a veces da error... entiende el output y comprende cuando es normal que salgan errores "
   ]
  },
  {
   "cell_type": "code",
   "execution_count": 6,
   "metadata": {},
   "outputs": [
    {
     "name": "stdout",
     "output_type": "stream",
     "text": [
      "35.6\n",
      "35.0\n"
     ]
    }
   ],
   "source": [
    "# Entender que convertir un tipo en otro tipo de datos puede suponer una pérdida/alteración de la información por el camino:\n",
    "# Tomamos un float, lo convertimos a entero y lo volvemos a convertir en float. Hemos perdido/alterado la información por el camino!\n",
    "var_float = 35.6 \n",
    "var_int = int(var_float)\n",
    "var_float_de_nuevo = float(var_int)\n",
    "print(var_float) # Float inicial\n",
    "print(var_int) # Paso a entero\n",
    "print(var_float_de_nuevo) # Vuelta a float"
   ]
  },
  {
   "cell_type": "code",
   "execution_count": 8,
   "metadata": {},
   "outputs": [
    {
     "name": "stdout",
     "output_type": "stream",
     "text": [
      "35.6\n",
      "35.6\n",
      "35.6\n"
     ]
    }
   ],
   "source": [
    "# Otras transformaciones de información son inocuas: no se pierde nada\n",
    "var_float = 35.6 \n",
    "var_str = str(var_float)\n",
    "var_float_de_nuevo = float(var_str)\n",
    "print(var_float) # Float inicial\n",
    "print(var_str) # Paso a str\n",
    "print(var_float_de_nuevo) # Vuelta a float"
   ]
  }
 ],
 "metadata": {
  "kernelspec": {
   "display_name": "Python 3",
   "language": "python",
   "name": "python3"
  },
  "language_info": {
   "codemirror_mode": {
    "name": "ipython",
    "version": 3
   },
   "file_extension": ".py",
   "mimetype": "text/x-python",
   "name": "python",
   "nbconvert_exporter": "python",
   "pygments_lexer": "ipython3",
   "version": "3.8.10"
  }
 },
 "nbformat": 4,
 "nbformat_minor": 2
}
