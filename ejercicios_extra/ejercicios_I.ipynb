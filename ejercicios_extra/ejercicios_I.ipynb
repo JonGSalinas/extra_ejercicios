{
 "cells": [
  {
   "cell_type": "markdown",
   "metadata": {},
   "source": [
    "# Listado de ejercicios para practicar sintaxis, reforzar conceptos y fijar ideas\n",
    "### Requieren entre 1 y 3 líneas de código por ejercicio y serán similares a alguno que hicimos antes en clase o un uso directo de la teoría\n",
    "### Si te atacas no vayas directamente a las soluciones: \n",
    "##### Repasa, descansa, prueba con otros ejercicios, escribe en un papel o comentario de python que quieres hacer y vuelve al ejercicio \n",
    "##### Cuidado con los errores de sintaxis: comprueba que los paréntesis están bien puesto, las comillas cerradas, el tipo de datos es correcto... \n",
    "##### Si un ejercicio que el miercoles te hubiera parecido complicado, ahora te parece aburrido significa que ambos estamos cumpliendo bien nuestro papel\n",
    "##### Si a algún ejercicio quieres darle una vuelta con conceptos más avanzados (if, for, while...) también es bienvenido y saludable\n"
   ]
  },
  {
   "cell_type": "markdown",
   "metadata": {},
   "source": [
    "##### Estoy overtime y odio hacer horas extra. Espero que si me pides ayuda me muestres tu trabajo: un intento de código (aunque no funcione), una frase en español o inglés indicando que es lo que quieres hacer, una duda concreta... pero no la celda vacía\n",
    "\n",
    "![imagen](img/overtime.gif)\n"
   ]
  },
  {
   "cell_type": "code",
   "execution_count": null,
   "metadata": {},
   "outputs": [],
   "source": [
    "# Declarar variables hasta llegar al Nirvana:\n",
    "# Declara var1 y asignale un string o cadena \n",
    "# Declara var2 y asignale un int o entero\n",
    "# Declara var3 y asignale un float o número con decimales\n",
    "# Declara var4 y asignale un booleano\n",
    "# Declara var5 y asignale una lista\n"
   ]
  },
  {
   "cell_type": "code",
   "execution_count": null,
   "metadata": {},
   "outputs": [],
   "source": [
    "# Conversión de tipos o casting:\n",
    "# Intenta convertir todos y cada una de las variables del ejercicio anterior en:\n",
    "# string\n",
    "# int\n",
    "# float\n",
    "# booleano\n",
    "# lista (¿SE PUEDE HACER ESTO?: tan sencillo como list(varX) sea varX el nombre de tu variable: var1, var2, var3...) ESTO NO HABÍA QUE SABERLO DE MOMENTO \n",
    "# A veces funciona, a veces da error... entiende el output y comprende cuando es normal que salgan errores "
   ]
  },
  {
   "cell_type": "code",
   "execution_count": null,
   "metadata": {},
   "outputs": [],
   "source": [
    "# Entender que convertir un tipo en otro tipo de datos puede suponer una pérdida/alteración de la información por el camino:\n",
    "# Tomamos un float, lo convertimos a entero y lo volvemos a convertir en float. Hemos perdido/alterado la información por el camino!\n",
    "var_float = 35.6 \n",
    "var_int = int(var_float)\n",
    "var_float_de_nuevo = float(var_int)\n",
    "print(var_float) # Float inicial\n",
    "print(var_int) # Paso a entero\n",
    "print(var_float_de_nuevo) # Vuelta a float"
   ]
  },
  {
   "cell_type": "code",
   "execution_count": null,
   "metadata": {},
   "outputs": [],
   "source": [
    "# Otras transformaciones de información son inocuas: no se pierde nada\n",
    "var_float = 35.6 \n",
    "var_str = str(var_float)\n",
    "var_float_de_nuevo = float(var_str)\n",
    "print(var_float) # Float inicial\n",
    "print(var_str) # Paso a str\n",
    "print(var_float_de_nuevo) # Vuelta a float"
   ]
  },
  {
   "cell_type": "code",
   "execution_count": null,
   "metadata": {},
   "outputs": [],
   "source": [
    "# Estoy deprimido, quería actualizar mi edad y obtengo 371 en lugar de 38... ¿Qué estoy haciendo mal?\n",
    "edad_actual = \"37\"\n",
    "edad_nueva = \"37\" + \"1\"\n",
    "print(edad_nueva)"
   ]
  },
  {
   "cell_type": "code",
   "execution_count": null,
   "metadata": {},
   "outputs": [],
   "source": [
    "# Ejecuta, observa, entiende e incluye comentarios o resuelve usando papel y lápiz, si es necesario:\n",
    "\n",
    "print(6//2)\n",
    "print(6/2)\n",
    "\n",
    "print(6//4)\n",
    "print(6/4)\n",
    "\n",
    "print(6//5)\n",
    "print(6/5)"
   ]
  },
  {
   "cell_type": "code",
   "execution_count": null,
   "metadata": {},
   "outputs": [],
   "source": [
    "# Condiciones\n",
    "# Genera una condición que devuelva verdadero si opcion es postre o cafe. \n",
    "opcion = \"postre\"\n"
   ]
  },
  {
   "cell_type": "code",
   "execution_count": null,
   "metadata": {},
   "outputs": [],
   "source": [
    "## Debugear condiciones \n",
    "# Este codigo NO genera una condición que devuelva verdadero si opcion es postre o cafe.\n",
    "# Haz que funcione!\n",
    "opcion = \"postre\"\n",
    "\n",
    "cond1 = opcion == \"postre \"\n",
    "cond2 = opcion == \"Cafe\"\n",
    "cond_final = cond1 or cond2 \n",
    "print(cond_final)"
   ]
  },
  {
   "cell_type": "code",
   "execution_count": null,
   "metadata": {},
   "outputs": [],
   "source": [
    "# Condiciones\n",
    "# Genera una condición que devuelva verdadero si el precio está entre 700 y 800 euros\n",
    "precio = 750"
   ]
  },
  {
   "cell_type": "code",
   "execution_count": null,
   "metadata": {},
   "outputs": [],
   "source": [
    "## Debugear condiciones \n",
    "# Este codigo NO genera una condición que devuelva verdadero si el precio está entre 7000 y 8000 euros\n",
    "# Es más, ni siquiera se ejecuta\n",
    "# Haz que funcione!\n",
    "precio = \"7500\"\n",
    "\n",
    "cond1 = opcion >= \"7000\"\n",
    "cond2 = opcion <= 8.000\n",
    "cond_final = cond1 and cond2 \n",
    "print(cond_final)\n"
   ]
  }
 ],
 "metadata": {
  "kernelspec": {
   "display_name": "Python 3",
   "language": "python",
   "name": "python3"
  },
  "language_info": {
   "codemirror_mode": {
    "name": "ipython",
    "version": 3
   },
   "file_extension": ".py",
   "mimetype": "text/x-python",
   "name": "python",
   "nbconvert_exporter": "python",
   "pygments_lexer": "ipython3",
   "version": "3.12.0"
  }
 },
 "nbformat": 4,
 "nbformat_minor": 2
}
